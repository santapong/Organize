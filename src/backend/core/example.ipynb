{
 "cells": [
  {
   "cell_type": "code",
   "execution_count": 37,
   "id": "dfb282ff",
   "metadata": {},
   "outputs": [],
   "source": [
    "from langchain.chat_models import init_chat_model\n",
    "from langgraph.prebuilt import create_react_agent\n",
    "\n",
    "from langchain_core.messages import AnyMessage\n",
    "from langchain_core.runnables import RunnableConfig\n",
    "\n",
    "from langgraph.prebuilt.chat_agent_executor import AgentState\n",
    "from langgraph.checkpoint.memory import InMemorySaver\n",
    "\n",
    "from src.backend.utils.settings import SettingsLLM\n",
    "\n",
    "checkpointer = InMemorySaver()\n",
    "configLLM = SettingsLLM()\n",
    "\n",
    "def get_weather(city: str) -> str:  \n",
    "    \"\"\"Get weather for a given city.\"\"\"\n",
    "    return f\"It's always sunny in {city}!\"\n"
   ]
  },
  {
   "cell_type": "code",
   "execution_count": 38,
   "id": "5f0fbd2f",
   "metadata": {},
   "outputs": [
    {
     "name": "stdout",
     "output_type": "stream",
     "text": [
      "typhoon-v2.1-12b-instruct\n"
     ]
    }
   ],
   "source": [
    "llm = init_chat_model(\n",
    "    model=configLLM.model,\n",
    "    model_provider=configLLM.model_provider,\n",
    "    base_url=configLLM.base_url,\n",
    "    )\n",
    "print(configLLM.model)"
   ]
  },
  {
   "cell_type": "code",
   "execution_count": 39,
   "id": "206c6501",
   "metadata": {},
   "outputs": [],
   "source": [
    "def prompt(state: AgentState, config: RunnableConfig) -> list[AnyMessage]:  \n",
    "    user_name = config[\"configurable\"].get(\"user_name\")\n",
    "    system_msg = f\"You are a helpful assistant. Address the user as {user_name}.\"\n",
    "    return [{\"role\": \"system\", \"content\": system_msg}] + state[\"messages\"]"
   ]
  },
  {
   "cell_type": "code",
   "execution_count": 40,
   "id": "37bc7970",
   "metadata": {},
   "outputs": [],
   "source": [
    "\n",
    "agent = create_react_agent(\n",
    "    model=llm,\n",
    "    tools=[get_weather],\n",
    "    prompt=prompt,\n",
    "    checkpointer=checkpointer\n",
    ")"
   ]
  },
  {
   "cell_type": "code",
   "execution_count": 41,
   "id": "caf9a291",
   "metadata": {},
   "outputs": [
    {
     "data": {
      "text/plain": [
       "{'messages': [HumanMessage(content='what is the weather in sf', additional_kwargs={}, response_metadata={}, id='fdfe4cdf-fb17-49a3-87f3-69ab3be1baa6'),\n",
       "  AIMessage(content='', additional_kwargs={'tool_calls': [{'id': 'chatcmpl-tool-7bc49abbb8064f34b220650f347f1e1c', 'function': {'arguments': '{\"city\": \"sf\"}', 'name': 'get_weather'}, 'type': 'function'}], 'refusal': None}, response_metadata={'token_usage': {'completion_tokens': 10, 'prompt_tokens': 279, 'total_tokens': 289, 'completion_tokens_details': None, 'prompt_tokens_details': None}, 'model_name': 'typhoon-v2.1-12b-instruct', 'system_fingerprint': None, 'id': 'chatcmpl-421f6522d09345efbf7e379fc944aac9', 'service_tier': None, 'finish_reason': 'tool_calls', 'logprobs': None}, id='run--8668d962-3859-44bb-93a9-983f452aa87f-0', tool_calls=[{'name': 'get_weather', 'args': {'city': 'sf'}, 'id': 'chatcmpl-tool-7bc49abbb8064f34b220650f347f1e1c', 'type': 'tool_call'}], usage_metadata={'input_tokens': 279, 'output_tokens': 10, 'total_tokens': 289, 'input_token_details': {}, 'output_token_details': {}}),\n",
       "  ToolMessage(content=\"It's always sunny in sf!\", name='get_weather', id='a863d9c9-008e-4f80-83a6-1dfe645e91c6', tool_call_id='chatcmpl-tool-7bc49abbb8064f34b220650f347f1e1c'),\n",
       "  AIMessage(content='Okay, great! It sounds like the weather in San Francisco is sunny.', additional_kwargs={'refusal': None}, response_metadata={'token_usage': {'completion_tokens': 16, 'prompt_tokens': 316, 'total_tokens': 332, 'completion_tokens_details': None, 'prompt_tokens_details': None}, 'model_name': 'typhoon-v2.1-12b-instruct', 'system_fingerprint': None, 'id': 'chatcmpl-e6a50399314e46af9191781418d910e2', 'service_tier': None, 'finish_reason': 'stop', 'logprobs': None}, id='run--278eb105-5c54-44ca-a6b1-6fe770090872-0', usage_metadata={'input_tokens': 316, 'output_tokens': 16, 'total_tokens': 332, 'input_token_details': {}, 'output_token_details': {}})]}"
      ]
     },
     "execution_count": 41,
     "metadata": {},
     "output_type": "execute_result"
    }
   ],
   "source": [
    "sf_response = agent.invoke(\n",
    "    {\"messages\": [{\"role\": \"user\", \"content\": \"what is the weather in sf\"}]},\n",
    "    config={\"configurable\": {\"user_name\": \"John Smith\",\"thread_id\": \"1\"}}\n",
    ")\n",
    "\n",
    "sf_response"
   ]
  },
  {
   "cell_type": "code",
   "execution_count": 42,
   "id": "00892ceb",
   "metadata": {},
   "outputs": [
    {
     "data": {
      "text/plain": [
       "{'messages': [HumanMessage(content='what is the weather in sf', additional_kwargs={}, response_metadata={}, id='b5acd625-3e58-4bf7-96a4-023df961f20e'),\n",
       "  AIMessage(content='', additional_kwargs={'tool_calls': [{'id': 'chatcmpl-tool-f2a764e176404496a0e504f9036d4baa', 'function': {'arguments': '{\"city\": \"sf\"}', 'name': 'get_weather'}, 'type': 'function'}], 'refusal': None}, response_metadata={'token_usage': {'completion_tokens': 10, 'prompt_tokens': 279, 'total_tokens': 289, 'completion_tokens_details': None, 'prompt_tokens_details': None}, 'model_name': 'typhoon-v2.1-12b-instruct', 'system_fingerprint': None, 'id': 'chatcmpl-7cb9fe96fde140f7a672ee3d309058a6', 'service_tier': None, 'finish_reason': 'tool_calls', 'logprobs': None}, id='run--38f10188-cfca-49c1-bcb8-7af763250600-0', tool_calls=[{'name': 'get_weather', 'args': {'city': 'sf'}, 'id': 'chatcmpl-tool-f2a764e176404496a0e504f9036d4baa', 'type': 'tool_call'}], usage_metadata={'input_tokens': 279, 'output_tokens': 10, 'total_tokens': 289, 'input_token_details': {}, 'output_token_details': {}}),\n",
       "  ToolMessage(content=\"It's always sunny in sf!\", name='get_weather', id='81b5d670-4ad8-4163-ae16-b21cbb92fce8', tool_call_id='chatcmpl-tool-f2a764e176404496a0e504f9036d4baa'),\n",
       "  AIMessage(content='Okay, great! It sounds like the weather in San Francisco is sunny.', additional_kwargs={'refusal': None}, response_metadata={'token_usage': {'completion_tokens': 16, 'prompt_tokens': 316, 'total_tokens': 332, 'completion_tokens_details': None, 'prompt_tokens_details': None}, 'model_name': 'typhoon-v2.1-12b-instruct', 'system_fingerprint': None, 'id': 'chatcmpl-343a0e8f4752434abec330642fa6afe1', 'service_tier': None, 'finish_reason': 'stop', 'logprobs': None}, id='run--8cb3e50b-055c-47b8-81b0-bb433b0b41bf-0', usage_metadata={'input_tokens': 316, 'output_tokens': 16, 'total_tokens': 332, 'input_token_details': {}, 'output_token_details': {}})]}"
      ]
     },
     "execution_count": 42,
     "metadata": {},
     "output_type": "execute_result"
    }
   ],
   "source": [
    "my_response = agent.invoke(\n",
    "    {\"messages\": [{\"role\": \"user\", \"content\": \"what is the weather in sf\"}]},\n",
    "    config={\"configurable\": {\"user_name\": \"John Smith\",\"thread_id\": \"2\"}}\n",
    ")\n",
    "\n",
    "my_response"
   ]
  }
 ],
 "metadata": {
  "kernelspec": {
   "display_name": ".venv",
   "language": "python",
   "name": "python3"
  },
  "language_info": {
   "codemirror_mode": {
    "name": "ipython",
    "version": 3
   },
   "file_extension": ".py",
   "mimetype": "text/x-python",
   "name": "python",
   "nbconvert_exporter": "python",
   "pygments_lexer": "ipython3",
   "version": "3.11.11"
  }
 },
 "nbformat": 4,
 "nbformat_minor": 5
}
